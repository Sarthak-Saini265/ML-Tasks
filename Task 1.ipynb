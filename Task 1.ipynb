{
 "cells": [
  {
   "cell_type": "code",
   "execution_count": 22,
   "id": "684181f7",
   "metadata": {},
   "outputs": [],
   "source": [
    "import math\n",
    "import random\n",
    "import matplotlib.pyplot as plt\n",
    "import seaborn as sns\n",
    "sns.set()"
   ]
  },
  {
   "cell_type": "code",
   "execution_count": 23,
   "id": "88a08e89",
   "metadata": {},
   "outputs": [],
   "source": [
    "clustery_final =[]"
   ]
  },
  {
   "cell_type": "code",
   "execution_count": 24,
   "id": "40f1b219",
   "metadata": {},
   "outputs": [],
   "source": [
    "for i in range(20):\n",
    "    cluster1_x=random.uniform(0.0, 5.0)\n",
    "    cluster1_y = random.uniform(0.0, 5.0)\n",
    "    clustery_final.append((cluster1_x, cluster1_y))\n",
    "    "
   ]
  },
  {
   "cell_type": "code",
   "execution_count": 25,
   "id": "185c5317",
   "metadata": {},
   "outputs": [
    {
     "data": {
      "text/plain": [
       "[(0.21742306369340825, 3.6151377771329933),\n",
       " (3.2962764780871243, 3.8158756635660374),\n",
       " (3.8978318392092097, 1.4640115304759405),\n",
       " (4.076175557261886, 2.780655130076966),\n",
       " (1.1990650182569613, 0.7633694892674242),\n",
       " (4.3947395042841215, 0.5879922585355774),\n",
       " (0.7883504169937117, 3.8821571937242636),\n",
       " (2.8685736759357705, 2.6263166946120746),\n",
       " (4.172709801130167, 2.127542453726728),\n",
       " (2.1042437794128177, 3.033832919382683),\n",
       " (3.7213499774679377, 3.317021443001727),\n",
       " (4.280579810534567, 0.25529373659134547),\n",
       " (1.5273349295204475, 1.6866376618191814),\n",
       " (0.12090475166464387, 4.73709008466054),\n",
       " (4.356446100628311, 1.418334493848027),\n",
       " (1.377835373821044, 0.68669630980491),\n",
       " (4.107361807088591, 2.6311153598316412),\n",
       " (1.1373490832546762, 2.322445710168471),\n",
       " (2.28281473877241, 0.2590548121820263),\n",
       " (0.6885354849921993, 4.908482619059878)]"
      ]
     },
     "execution_count": 25,
     "metadata": {},
     "output_type": "execute_result"
    }
   ],
   "source": [
    "clustery_final"
   ]
  },
  {
   "cell_type": "code",
   "execution_count": 26,
   "id": "874fe4f7",
   "metadata": {},
   "outputs": [
    {
     "data": {
      "text/plain": [
       "20"
      ]
     },
     "execution_count": 26,
     "metadata": {},
     "output_type": "execute_result"
    }
   ],
   "source": [
    "len(clustery_final)"
   ]
  },
  {
   "cell_type": "code",
   "execution_count": 27,
   "id": "8ae0ff12",
   "metadata": {},
   "outputs": [],
   "source": [
    "clusterx_final =[]"
   ]
  },
  {
   "cell_type": "code",
   "execution_count": 28,
   "id": "c23fb992",
   "metadata": {},
   "outputs": [],
   "source": [
    "for i in range(20):\n",
    "    cluster2_x=random.uniform(6.0, 10.0)\n",
    "    cluster2_y = random.uniform(6.0, 10.0)\n",
    "    clusterx_final.append((cluster2_x, cluster2_y))"
   ]
  },
  {
   "cell_type": "code",
   "execution_count": 29,
   "id": "01d49f4a",
   "metadata": {},
   "outputs": [
    {
     "data": {
      "text/plain": [
       "[(8.770171290216755, 8.023294426232953),\n",
       " (6.843307938463342, 6.814737284677333),\n",
       " (8.239570716327613, 6.302296748074005),\n",
       " (9.041730738638995, 8.829304384652918),\n",
       " (6.468772574503669, 9.621868529405411),\n",
       " (7.413936672264702, 9.426601064602362),\n",
       " (9.146321210059257, 9.26212669491553),\n",
       " (7.041555748264866, 6.3924339017658465),\n",
       " (9.327455853564855, 6.186864045574458),\n",
       " (8.352983023366072, 6.621775777737915),\n",
       " (8.499243316201934, 6.976790015032677),\n",
       " (7.2044996273553314, 8.301038817655826),\n",
       " (7.515400057987907, 7.2209862927321815),\n",
       " (8.419063649252596, 7.020039220437222),\n",
       " (6.5608819636505356, 8.830559961728296),\n",
       " (8.749864387337478, 9.752894686960008),\n",
       " (6.540044965055837, 7.350454946122396),\n",
       " (6.013233765865488, 7.905410495974308),\n",
       " (6.720406052592834, 9.345448990369917),\n",
       " (8.66152513058297, 9.860264524694314)]"
      ]
     },
     "execution_count": 29,
     "metadata": {},
     "output_type": "execute_result"
    }
   ],
   "source": [
    "clusterx_final"
   ]
  },
  {
   "cell_type": "code",
   "execution_count": 30,
   "id": "6abd28b5",
   "metadata": {},
   "outputs": [
    {
     "data": {
      "text/plain": [
       "20"
      ]
     },
     "execution_count": 30,
     "metadata": {},
     "output_type": "execute_result"
    }
   ],
   "source": [
    "len(clusterx_final)"
   ]
  },
  {
   "cell_type": "code",
   "execution_count": 31,
   "id": "32fa00e1",
   "metadata": {},
   "outputs": [],
   "source": [
    "dot_x = [point[0] for point in clustery_final]\n",
    "dot_y = [point[1] for point in clustery_final]"
   ]
  },
  {
   "cell_type": "code",
   "execution_count": 32,
   "id": "849112ff",
   "metadata": {},
   "outputs": [],
   "source": [
    "cross_x = [point[0] for point in clusterx_final]\n",
    "cross_y = [point[1] for point in clusterx_final]"
   ]
  },
  {
   "cell_type": "code",
   "execution_count": 33,
   "id": "3c5543d6",
   "metadata": {},
   "outputs": [],
   "source": [
    "dot_mean_x = sum(dot_x)/len(clustery_final)\n",
    "dot_mean_y = sum(dot_y)/len(clustery_final)"
   ]
  },
  {
   "cell_type": "code",
   "execution_count": 34,
   "id": "cc24b658",
   "metadata": {},
   "outputs": [],
   "source": [
    "cross_mean_x = sum(cross_x)/len(clusterx_final)\n",
    "cross_mean_y = sum(cross_y)/len(clusterx_final)"
   ]
  },
  {
   "cell_type": "code",
   "execution_count": 35,
   "id": "2f1fcbe6",
   "metadata": {},
   "outputs": [
    {
     "data": {
      "text/plain": [
       "(0.06035946898697353, 7.751436490498767)"
      ]
     },
     "execution_count": 35,
     "metadata": {},
     "output_type": "execute_result"
    }
   ],
   "source": [
    "random_point_x = random.uniform(0.0, 10.0)\n",
    "random_point_y = random.uniform(0.0, 10.0)\n",
    "random_point = (random_point_x, random_point_y)\n",
    "random_point"
   ]
  },
  {
   "cell_type": "code",
   "execution_count": 36,
   "id": "badf6012",
   "metadata": {},
   "outputs": [
    {
     "data": {
      "image/png": "[encoded data removed]",
      "text/plain": [
       "<Figure size 640x480 with 1 Axes>"
      ]
     },
     "metadata": {},
     "output_type": "display_data"
    }
   ],
   "source": [
    "plt.scatter(dot_x, dot_y)\n",
    "plt.scatter(cross_x, cross_y, marker='x')\n",
    "plt.scatter(random_point_x, random_point_y, color='magenta', marker = 's', label='Random')\n",
    "plt.scatter(dot_mean_x, dot_mean_y, color='orange', label='Mean')\n",
    "plt.scatter(cross_mean_x, cross_mean_y, color='blue', marker='x', label='Mean')\n",
    "#plt.savefig('alpha_graph.png')\n",
    "plt.show()"
   ]
  },
  {
   "cell_type": "code",
   "execution_count": 37,
   "id": "5d8080a9",
   "metadata": {},
   "outputs": [],
   "source": [
    "distance_dot = math.sqrt((random_point_x - dot_mean_x)**2 + (random_point_y - dot_mean_y)**2)\n",
    "distance_cross = math.sqrt((random_point_x - cross_mean_x)**2 + (random_point_y - cross_mean_y)**2)"
   ]
  },
  {
   "cell_type": "code",
   "execution_count": 38,
   "id": "bd6ff45b",
   "metadata": {},
   "outputs": [
    {
     "data": {
      "text/plain": [
       "5.9432568484964134"
      ]
     },
     "execution_count": 38,
     "metadata": {},
     "output_type": "execute_result"
    }
   ],
   "source": [
    "distance_dot"
   ]
  },
  {
   "cell_type": "code",
   "execution_count": 39,
   "id": "cd635dc3",
   "metadata": {},
   "outputs": [
    {
     "data": {
      "text/plain": [
       "7.720214552134295"
      ]
     },
     "execution_count": 39,
     "metadata": {},
     "output_type": "execute_result"
    }
   ],
   "source": [
    "distance_cross"
   ]
  },
  {
   "cell_type": "code",
   "execution_count": 40,
   "id": "a8c60ff2",
   "metadata": {},
   "outputs": [
    {
     "data": {
      "text/plain": [
       "False"
      ]
     },
     "execution_count": 40,
     "metadata": {},
     "output_type": "execute_result"
    }
   ],
   "source": [
    "min(distance_dot, distance_cross) == distance_cross"
   ]
  },
  {
   "cell_type": "code",
   "execution_count": 41,
   "id": "6da61e7e",
   "metadata": {},
   "outputs": [
    {
     "name": "stdout",
     "output_type": "stream",
     "text": [
      "The random point (0.06035946898697353, 7.751436490498767) is closest to Cluster Y's mean (2.5307950596005004, 2.3459531670734215)\n"
     ]
    }
   ],
   "source": [
    "if min(distance_dot, distance_cross) == distance_cross:\n",
    "    print(f'The random point {random_point} is closest to Cluster X\\'s mean {(cross_mean_x, cross_mean_y)}')\n",
    "else:\n",
    "    print(f'The random point {random_point} is closest to Cluster Y\\'s mean {(dot_mean_x, dot_mean_y)}')"
   ]
  },
  {
   "cell_type": "code",
   "execution_count": null,
   "id": "8e37c32d",
   "metadata": {},
   "outputs": [],
   "source": []
  },
  {
   "cell_type": "code",
   "execution_count": null,
   "id": "448fd472",
   "metadata": {},
   "outputs": [],
   "source": []
  },
  {
   "cell_type": "code",
   "execution_count": null,
   "id": "37465ac9",
   "metadata": {},
   "outputs": [],
   "source": []
  }
 ],
 "metadata": {
  "kernelspec": {
   "display_name": "Python 3 (ipykernel)",
   "language": "python",
   "name": "python3"
  },
  "language_info": {
   "codemirror_mode": {
    "name": "ipython",
    "version": 3
   },
   "file_extension": ".py",
   "mimetype": "text/x-python",
   "name": "python",
   "nbconvert_exporter": "python",
   "pygments_lexer": "ipython3",
   "version": "3.11.5"
  }
 },
 "nbformat": 4,
 "nbformat_minor": 5
}
