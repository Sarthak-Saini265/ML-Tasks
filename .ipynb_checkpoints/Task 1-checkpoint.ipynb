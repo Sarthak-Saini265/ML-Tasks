{
 "cells": [
  {
   "cell_type": "code",
   "execution_count": 39,
   "id": "684181f7",
   "metadata": {},
   "outputs": [],
   "source": [
    "import math\n",
    "import random\n",
    "import matplotlib.pyplot as plt\n",
    "import seaborn as sns"
   ]
  },
  {
   "cell_type": "code",
   "execution_count": 2,
   "id": "88a08e89",
   "metadata": {},
   "outputs": [],
   "source": [
    "clustery_final =[]"
   ]
  },
  {
   "cell_type": "code",
   "execution_count": 3,
   "id": "40f1b219",
   "metadata": {},
   "outputs": [],
   "source": [
    "for i in range(20):\n",
    "    cluster1_x=random.uniform(0.0, 5.0)\n",
    "    cluster1_y = random.uniform(0.0, 5.0)\n",
    "    clustery_final.append((cluster1_x, cluster1_y))\n",
    "    "
   ]
  },
  {
   "cell_type": "code",
   "execution_count": 4,
   "id": "185c5317",
   "metadata": {},
   "outputs": [
    {
     "data": {
      "text/plain": [
       "[(1.2118703793559205, 1.7256395045200446),\n",
       " (2.8836956084676633, 2.2053827760934825),\n",
       " (4.9940930380938235, 3.7118582405053036),\n",
       " (1.3396416547488232, 1.6330920643473767),\n",
       " (3.4664482667072756, 4.839443306692984),\n",
       " (3.096285180209086, 0.1103145925764687),\n",
       " (0.8124727439667934, 0.9777414639793686),\n",
       " (2.02048691605024, 0.6049647427731153),\n",
       " (0.729222441886907, 0.969877598231586),\n",
       " (2.712017386335697, 4.5218205409456615),\n",
       " (4.569574846212009, 1.2132594716322354),\n",
       " (4.805947423111413, 2.6915060481289332),\n",
       " (1.252192004554702, 1.5661381318018956),\n",
       " (1.1120220204501714, 3.3414462762601778),\n",
       " (2.5454250223828496, 2.234813909309545),\n",
       " (4.3666722778435725, 1.5456851044939706),\n",
       " (1.7674078798026844, 3.9534123622619513),\n",
       " (4.9919280841594444, 4.74770966972807),\n",
       " (3.4611480186930943, 3.2943361279601096),\n",
       " (1.187757694963119, 2.003696388477174)]"
      ]
     },
     "execution_count": 4,
     "metadata": {},
     "output_type": "execute_result"
    }
   ],
   "source": [
    "clustery_final"
   ]
  },
  {
   "cell_type": "code",
   "execution_count": 5,
   "id": "874fe4f7",
   "metadata": {},
   "outputs": [
    {
     "data": {
      "text/plain": [
       "20"
      ]
     },
     "execution_count": 5,
     "metadata": {},
     "output_type": "execute_result"
    }
   ],
   "source": [
    "len(clustery_final)"
   ]
  },
  {
   "cell_type": "code",
   "execution_count": 6,
   "id": "8ae0ff12",
   "metadata": {},
   "outputs": [],
   "source": [
    "clusterx_final =[]"
   ]
  },
  {
   "cell_type": "code",
   "execution_count": 7,
   "id": "c23fb992",
   "metadata": {},
   "outputs": [],
   "source": [
    "for i in range(20):\n",
    "    cluster2_x=random.uniform(6.0, 10.0)\n",
    "    cluster2_y = random.uniform(6.0, 10.0)\n",
    "    clusterx_final.append((cluster2_x, cluster2_y))"
   ]
  },
  {
   "cell_type": "code",
   "execution_count": 8,
   "id": "01d49f4a",
   "metadata": {},
   "outputs": [
    {
     "data": {
      "text/plain": [
       "[(8.451413183439975, 7.302975116165621),\n",
       " (7.3742146444946055, 8.814993123309204),\n",
       " (8.849392103369443, 8.325438615370068),\n",
       " (7.7792528933556575, 9.230272556211668),\n",
       " (9.671290972308533, 7.057442814366769),\n",
       " (8.838543996746905, 8.08261212491492),\n",
       " (9.742650007654554, 7.572254474312991),\n",
       " (7.028042605774795, 7.8089969645339465),\n",
       " (8.496782891364358, 7.601423528936333),\n",
       " (6.202213697973974, 9.999003364296346),\n",
       " (7.701543216231402, 8.83136213559559),\n",
       " (6.058587821487734, 8.192317125906985),\n",
       " (9.371150205943795, 7.060270162288818),\n",
       " (9.229616009466275, 6.430464474142971),\n",
       " (6.818184600600493, 8.614567170563422),\n",
       " (7.236224179963801, 9.964210545066873),\n",
       " (8.701935402569761, 6.377331179843888),\n",
       " (9.742883615970465, 7.504712120226969),\n",
       " (8.767829241761959, 9.519098080903568),\n",
       " (7.278329741115892, 8.787275953319337)]"
      ]
     },
     "execution_count": 8,
     "metadata": {},
     "output_type": "execute_result"
    }
   ],
   "source": [
    "clusterx_final"
   ]
  },
  {
   "cell_type": "code",
   "execution_count": 9,
   "id": "6abd28b5",
   "metadata": {},
   "outputs": [
    {
     "data": {
      "text/plain": [
       "20"
      ]
     },
     "execution_count": 9,
     "metadata": {},
     "output_type": "execute_result"
    }
   ],
   "source": [
    "len(clusterx_final)"
   ]
  },
  {
   "cell_type": "code",
   "execution_count": 10,
   "id": "32fa00e1",
   "metadata": {},
   "outputs": [],
   "source": [
    "dot_x = [point[0] for point in clustery_final]\n",
    "dot_y = [point[1] for point in clustery_final]"
   ]
  },
  {
   "cell_type": "code",
   "execution_count": 11,
   "id": "849112ff",
   "metadata": {},
   "outputs": [],
   "source": [
    "cross_x = [point[0] for point in clusterx_final]\n",
    "cross_y = [point[1] for point in clusterx_final]"
   ]
  },
  {
   "cell_type": "code",
   "execution_count": 18,
   "id": "3c5543d6",
   "metadata": {},
   "outputs": [],
   "source": [
    "dot_mean_x = sum(dot_x)/len(clustery_final)\n",
    "dot_mean_y = sum(dot_y)/len(clustery_final)"
   ]
  },
  {
   "cell_type": "code",
   "execution_count": 20,
   "id": "cc24b658",
   "metadata": {},
   "outputs": [],
   "source": [
    "cross_mean_x = sum(cross_x)/len(clusterx_final)\n",
    "cross_mean_y = sum(cross_y)/len(clusterx_final)"
   ]
  },
  {
   "cell_type": "code",
   "execution_count": 34,
   "id": "2f1fcbe6",
   "metadata": {},
   "outputs": [
    {
     "data": {
      "text/plain": [
       "(8.0667924954953, 0.8333696301194549)"
      ]
     },
     "execution_count": 34,
     "metadata": {},
     "output_type": "execute_result"
    }
   ],
   "source": [
    "random_point_x = random.uniform(0.0, 10.0)\n",
    "random_point_y = random.uniform(0.0, 10.0)\n",
    "random_point = (random_point_x, random_point_y)\n",
    "random_point"
   ]
  },
  {
   "cell_type": "code",
   "execution_count": 38,
   "id": "badf6012",
   "metadata": {},
   "outputs": [
    {
     "data": {
      "image/png": "[encoded data removed]",
      "text/plain": [
       "<Figure size 640x480 with 1 Axes>"
      ]
     },
     "metadata": {},
     "output_type": "display_data"
    }
   ],
   "source": [
    "plt.scatter(dot_x, dot_y)\n",
    "plt.scatter(cross_x, cross_y, marker='x')\n",
    "plt.scatter(random_point_x, random_point_y, color='magenta', marker = 's', label='Random')\n",
    "plt.scatter(dot_mean_x, dot_mean_y, color='orange', label='Mean')\n",
    "plt.scatter(cross_mean_x, cross_mean_y, color='blue', marker='x', label='Mean')\n",
    "plt.savefig('alpha_graph.png')\n",
    "plt.show()"
   ]
  },
  {
   "cell_type": "code",
   "execution_count": 40,
   "id": "5d8080a9",
   "metadata": {},
   "outputs": [],
   "source": [
    "distance_dot = math.sqrt((random_point_x - dot_mean_x)**2 + (random_point_y - dot_mean_y)**2)\n",
    "distance_cross = math.sqrt((random_point_x - cross_mean_x)**2 + (random_point_y - cross_mean_y)**2)"
   ]
  },
  {
   "cell_type": "code",
   "execution_count": 41,
   "id": "bd6ff45b",
   "metadata": {},
   "outputs": [
    {
     "data": {
      "text/plain": [
       "5.621620250634643"
      ]
     },
     "execution_count": 41,
     "metadata": {},
     "output_type": "execute_result"
    }
   ],
   "source": [
    "distance_dot"
   ]
  },
  {
   "cell_type": "code",
   "execution_count": 42,
   "id": "cd635dc3",
   "metadata": {},
   "outputs": [
    {
     "data": {
      "text/plain": [
       "7.321167327426802"
      ]
     },
     "execution_count": 42,
     "metadata": {},
     "output_type": "execute_result"
    }
   ],
   "source": [
    "distance_cross"
   ]
  },
  {
   "cell_type": "code",
   "execution_count": 45,
   "id": "a8c60ff2",
   "metadata": {},
   "outputs": [
    {
     "data": {
      "text/plain": [
       "False"
      ]
     },
     "execution_count": 45,
     "metadata": {},
     "output_type": "execute_result"
    }
   ],
   "source": [
    "min(distance_dot, distance_cross) == distance_cross"
   ]
  },
  {
   "cell_type": "code",
   "execution_count": 47,
   "id": "6da61e7e",
   "metadata": {},
   "outputs": [
    {
     "name": "stdout",
     "output_type": "stream",
     "text": [
      "The random point (8.0667924954953, 0.8333696301194549) is closest to Cluster Y's mean (2.6663154443997645, 2.3946069160359724)\n"
     ]
    }
   ],
   "source": [
    "if min(distance_dot, distance_cross) == distance_cross:\n",
    "    print(f'The random point {random_point} is closest to Cluster X\\'s mean {(cross_mean_x, cross_mean_y)}')\n",
    "else:\n",
    "    print(f'The random point {random_point} is closest to Cluster Y\\'s mean {(dot_mean_x, dot_mean_y)}')"
   ]
  },
  {
   "cell_type": "code",
   "execution_count": null,
   "id": "8e37c32d",
   "metadata": {},
   "outputs": [],
   "source": []
  },
  {
   "cell_type": "code",
   "execution_count": null,
   "id": "448fd472",
   "metadata": {},
   "outputs": [],
   "source": []
  },
  {
   "cell_type": "code",
   "execution_count": null,
   "id": "37465ac9",
   "metadata": {},
   "outputs": [],
   "source": []
  }
 ],
 "metadata": {
  "kernelspec": {
   "display_name": "Python 3 (ipykernel)",
   "language": "python",
   "name": "python3"
  },
  "language_info": {
   "codemirror_mode": {
    "name": "ipython",
    "version": 3
   },
   "file_extension": ".py",
   "mimetype": "text/x-python",
   "name": "python",
   "nbconvert_exporter": "python",
   "pygments_lexer": "ipython3",
   "version": "3.11.5"
  }
 },
 "nbformat": 4,
 "nbformat_minor": 5
}
